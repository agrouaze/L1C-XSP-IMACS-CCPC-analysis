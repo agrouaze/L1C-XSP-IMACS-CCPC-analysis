{
 "cells": [
  {
   "cell_type": "code",
   "execution_count": 1,
   "id": "6404cee4",
   "metadata": {},
   "outputs": [],
   "source": [
    "import glob\n",
    "import os\n",
    "import numpy as np "
   ]
  },
  {
   "cell_type": "markdown",
   "id": "9b0cc4f8",
   "metadata": {},
   "source": [
    "## 0) loading the l1c files"
   ]
  },
  {
   "cell_type": "code",
   "execution_count": 2,
   "id": "3923524a",
   "metadata": {
    "collapsed": true,
    "jupyter": {
     "outputs_hidden": true
    },
    "tags": []
   },
   "outputs": [
    {
     "name": "stdout",
     "output_type": "stream",
     "text": [
      "number of SAFE files : 9007 ; number of nc files : 26940\n"
     ]
    },
    {
     "data": {
      "text/plain": [
       "array(['/home/datawork-cersat-public/project/sarwave/data/products/tests2/slc/iw/l1c/2018/263/S1A_IW_XSP__1SDV_20180920T122004_20180920T122032_023782_02980D_BF31_B07.SAFE/l1c-s1a-iw2-xsp-1sdv-20180920t122005-20180920t122030-023782-02980d-b07.nc',\n",
       "       '/home/datawork-cersat-public/project/sarwave/data/products/tests2/slc/iw/l1c/2018/263/S1A_IW_XSP__1SDV_20180920T122004_20180920T122032_023782_02980D_BF31_B07.SAFE/l1c-s1a-iw3-xsp-1sdv-20180920t122006-20180920t122031-023782-02980d-b07.nc',\n",
       "       '/home/datawork-cersat-public/project/sarwave/data/products/tests2/slc/iw/l1c/2018/263/S1A_IW_XSP__1SDV_20180920T122004_20180920T122032_023782_02980D_BF31_B07.SAFE/l1c-s1a-iw1-xsp-1sdv-20180920t122004-20180920t122032-023782-02980d-b07.nc',\n",
       "       ...,\n",
       "       '/home/datawork-cersat-public/project/sarwave/data/products/tests2/slc/iw/l1c/2023/308/S1A_IW_XSP__1SDV_20231104T182128_20231104T182155_051071_06288B_A9E6_B07.SAFE/l1c-s1a-iw3-xsp-1sdv-20231104t182128-20231104t182153-051071-06288b-b07.nc',\n",
       "       '/home/datawork-cersat-public/project/sarwave/data/products/tests2/slc/iw/l1c/2023/308/S1A_IW_XSP__1SDV_20231104T182128_20231104T182155_051071_06288B_A9E6_B07.SAFE/l1c-s1a-iw2-xsp-1sdv-20231104t182130-20231104t182155-051071-06288b-b07.nc',\n",
       "       '/home/datawork-cersat-public/project/sarwave/data/products/tests2/slc/iw/l1c/2023/308/S1A_IW_XSP__1SDV_20231104T182128_20231104T182155_051071_06288B_A9E6_B07.SAFE/l1c-s1a-iw1-xsp-1sdv-20231104t182129-20231104t182154-051071-06288b-b07.nc'],\n",
       "      dtype='<U236')"
      ]
     },
     "execution_count": 2,
     "metadata": {},
     "output_type": "execute_result"
    }
   ],
   "source": [
    "#path = '/home/datawork-cersat-public/cache/project/sarwave/data/products/tests/iw/slc/l1c/4.1/'\n",
    "#safe = 'S1A_IW_XSP__1SDV*.SAFE'\n",
    "path = '/home/datawork-cersat-public/project/sarwave/data/products/tests2/slc/iw/l1c/'\n",
    "safe = '*IW_XSP__1SDV*B07*.SAFE'\n",
    "\n",
    "\n",
    "z = glob.glob(path+'*/*/'+safe)\n",
    "fns = glob.glob(path+'*/*/'+safe+'/*b07*.nc')  # the iw2 sub_swaths have a 5 tile_sample whereas the 2 others (iw1 et iw3) have a 4 tile_sample\n",
    "print('number of SAFE files : '+str(len(z)), '; number of nc files : '+str(len(fns))) \n",
    "\n",
    "fns_array = np.array(fns)\n",
    "# np.savetxt('/home1/datawork/ljessel/l1c_conversion/4.1/ALL_S1A_IW_XSP__1SDV.txt', fns_array, fmt='%s')\n",
    "np.savetxt('/home1/datawork/ljessel/l1c_conversion/ALL_S1AB_IW_XSP__1SDV_B07.txt', fns_array, fmt='%s')\n",
    "fns_array"
   ]
  },
  {
   "cell_type": "markdown",
   "id": "8049dfd2",
   "metadata": {},
   "source": [
    "9007 SAFE et 27_042 fichiers .nc du type :  /home/datawork-cersat-public/project/sarwave/data/products/tests2/slc/iw/l1c/* IW_XSP__1SDV* B07*.SAFE/*.nc\n",
    "\n",
    "9007 SAFE et 26_940 fichiers .nc du type :  /home/datawork-cersat-public/project/sarwave/data/products/tests2/slc/iw/l1c/* IW_XSP__1SDV* B07*.SAFE/* b07*.nc"
   ]
  }
 ],
 "metadata": {
  "kernelspec": {
   "display_name": "xsar_py3.9",
   "language": "python",
   "name": "env_xsar_py3.9"
  },
  "language_info": {
   "codemirror_mode": {
    "name": "ipython",
    "version": 3
   },
   "file_extension": ".py",
   "mimetype": "text/x-python",
   "name": "python",
   "nbconvert_exporter": "python",
   "pygments_lexer": "ipython3",
   "version": "3.9.19"
  }
 },
 "nbformat": 4,
 "nbformat_minor": 5
}
