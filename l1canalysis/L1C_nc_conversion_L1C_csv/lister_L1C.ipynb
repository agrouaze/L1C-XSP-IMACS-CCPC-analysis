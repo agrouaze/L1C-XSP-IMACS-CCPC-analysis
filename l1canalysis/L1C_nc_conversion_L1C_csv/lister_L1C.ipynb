{
 "cells": [
  {
   "cell_type": "code",
   "execution_count": 1,
   "id": "6404cee4",
   "metadata": {
    "execution": {
     "iopub.execute_input": "2024-09-24T12:36:48.678791Z",
     "iopub.status.busy": "2024-09-24T12:36:48.678429Z",
     "iopub.status.idle": "2024-09-24T12:36:51.673921Z",
     "shell.execute_reply": "2024-09-24T12:36:51.673414Z",
     "shell.execute_reply.started": "2024-09-24T12:36:48.678774Z"
    }
   },
   "outputs": [],
   "source": [
    "import glob\n",
    "import os\n",
    "import numpy as np "
   ]
  },
  {
   "cell_type": "markdown",
   "id": "9b0cc4f8",
   "metadata": {},
   "source": [
    "## 0) loading the l1c files"
   ]
  },
  {
   "cell_type": "code",
   "execution_count": 2,
   "id": "3923524a",
   "metadata": {
    "execution": {
     "iopub.execute_input": "2024-09-24T12:36:52.385261Z",
     "iopub.status.busy": "2024-09-24T12:36:52.385057Z",
     "iopub.status.idle": "2024-09-24T12:39:02.442850Z",
     "shell.execute_reply": "2024-09-24T12:39:02.442401Z",
     "shell.execute_reply.started": "2024-09-24T12:36:52.385246Z"
    },
    "tags": []
   },
   "outputs": [
    {
     "name": "stdout",
     "output_type": "stream",
     "text": [
      "number of SAFE files : 33348 ; number of nc files : 99857\n"
     ]
    },
    {
     "data": {
      "text/plain": [
       "array(['/home/datawork-cersat-public/project/sarwave/data/products/tests2/slc/iw/l1c/2018/297/S1A_IW_XSP__1SDV_20181024T010502_20181024T010530_024271_02A7FA_FEA1_B07.SAFE/l1c-s1a-iw3-xsp-1sdv-20181024t010504-20181024t010529-024271-02a7fa-b07.nc',\n",
       "       '/home/datawork-cersat-public/project/sarwave/data/products/tests2/slc/iw/l1c/2018/297/S1A_IW_XSP__1SDV_20181024T010502_20181024T010530_024271_02A7FA_FEA1_B07.SAFE/l1c-s1a-iw1-xsp-1sdv-20181024t010502-20181024t010530-024271-02a7fa-b07.nc',\n",
       "       '/home/datawork-cersat-public/project/sarwave/data/products/tests2/slc/iw/l1c/2018/297/S1A_IW_XSP__1SDV_20181024T010502_20181024T010530_024271_02A7FA_FEA1_B07.SAFE/l1c-s1a-iw2-xsp-1sdv-20181024t010503-20181024t010528-024271-02a7fa-b07.nc',\n",
       "       ...,\n",
       "       '/home/datawork-cersat-public/project/sarwave/data/products/tests2/slc/iw/l1c/2021/044/S1B_IW_XSP__1SDV_20210213T185012_20210213T185038_025592_030CBA_2E42_B07.SAFE/l1c-s1b-iw2-xsp-1sdv-20210213t185012-20210213t185037-025592-030cba-b07.nc',\n",
       "       '/home/datawork-cersat-public/project/sarwave/data/products/tests2/slc/iw/l1c/2021/044/S1B_IW_XSP__1SDV_20210213T185012_20210213T185038_025592_030CBA_2E42_B07.SAFE/l1c-s1b-iw3-xsp-1sdv-20210213t185013-20210213t185038-025592-030cba-b07.nc',\n",
       "       '/home/datawork-cersat-public/project/sarwave/data/products/tests2/slc/iw/l1c/2021/044/S1B_IW_XSP__1SDV_20210213T185012_20210213T185038_025592_030CBA_2E42_B07.SAFE/l1c-s1b-iw1-xsp-1sdv-20210213t185013-20210213t185038-025592-030cba-b07.nc'],\n",
       "      dtype='<U236')"
      ]
     },
     "execution_count": 2,
     "metadata": {},
     "output_type": "execute_result"
    }
   ],
   "source": [
    "#path = '/home/datawork-cersat-public/cache/project/sarwave/data/products/tests/iw/slc/l1c/4.1/'\n",
    "#safe = 'S1A_IW_XSP__1SDV*.SAFE'\n",
    "path = '/home/datawork-cersat-public/project/sarwave/data/products/tests2/slc/iw/l1c/'\n",
    "safe = '*IW_XSP__1SDV*B07*.SAFE'\n",
    "\n",
    "\n",
    "z = glob.glob(path+'*/*/'+safe)\n",
    "fns = glob.glob(path+'*/*/'+safe+'/*b07*.nc')  # the iw2 sub_swaths have a 5 tile_sample whereas the 2 others (iw1 et iw3) have a 4 tile_sample\n",
    "print('number of SAFE files : '+str(len(z)), '; number of nc files : '+str(len(fns))) \n",
    "\n",
    "fns_array = np.array(fns)\n",
    "# np.savetxt('/home1/datawork/ljessel/l1c_conversion/4.1/ALL_S1A_IW_XSP__1SDV.txt', fns_array, fmt='%s')\n",
    "# np.savetxt('/home1/datawork/ljessel/l1c_conversion/ALL_S1AB_IW_XSP__1SDV_B07.txt', fns_array, fmt='%s')\n",
    "fns_array"
   ]
  },
  {
   "cell_type": "code",
   "execution_count": null,
   "id": "ee53d894-7cf7-4aca-99b7-a263df97314f",
   "metadata": {},
   "outputs": [],
   "source": []
  },
  {
   "cell_type": "markdown",
   "id": "8049dfd2",
   "metadata": {},
   "source": [
    "9007 SAFE et 27_042 fichiers .nc du type :  /home/datawork-cersat-public/project/sarwave/data/products/tests2/slc/iw/l1c/* IW_XSP__1SDV* B07*.SAFE/*.nc\n",
    "\n",
    "9007 SAFE et 26_940 fichiers .nc du type :  /home/datawork-cersat-public/project/sarwave/data/products/tests2/slc/iw/l1c/* IW_XSP__1SDV* B07*.SAFE/* b07*.nc\n",
    "\n",
    " 18 sept 2024 B07 : number of SAFE files : 33348 ; number of nc files : 99857"
   ]
  },
  {
   "cell_type": "markdown",
   "id": "d1c1128c-7203-46fb-b9d7-cf4319506d29",
   "metadata": {},
   "source": [
    "# Add a filter to select only SAFE from extension [ optional ]"
   ]
  },
  {
   "cell_type": "code",
   "execution_count": 3,
   "id": "f9134da5-1c7b-4c68-9ab4-5cd0072f2752",
   "metadata": {
    "execution": {
     "iopub.execute_input": "2024-09-24T12:42:23.119204Z",
     "iopub.status.busy": "2024-09-24T12:42:23.118996Z",
     "iopub.status.idle": "2024-09-24T12:42:34.067027Z",
     "shell.execute_reply": "2024-09-24T12:42:34.066424Z",
     "shell.execute_reply.started": "2024-09-24T12:42:23.119184Z"
    }
   },
   "outputs": [
    {
     "data": {
      "text/html": [
       "<div>\n",
       "<style scoped>\n",
       "    .dataframe tbody tr th:only-of-type {\n",
       "        vertical-align: middle;\n",
       "    }\n",
       "\n",
       "    .dataframe tbody tr th {\n",
       "        vertical-align: top;\n",
       "    }\n",
       "\n",
       "    .dataframe thead th {\n",
       "        text-align: right;\n",
       "    }\n",
       "</style>\n",
       "<table border=\"1\" class=\"dataframe\">\n",
       "  <thead>\n",
       "    <tr style=\"text-align: right;\">\n",
       "      <th></th>\n",
       "      <th>safe</th>\n",
       "    </tr>\n",
       "  </thead>\n",
       "  <tbody>\n",
       "    <tr>\n",
       "      <th>0</th>\n",
       "      <td>/home/datawork-cersat-public/project/sarwave/d...</td>\n",
       "    </tr>\n",
       "    <tr>\n",
       "      <th>1</th>\n",
       "      <td>/home/datawork-cersat-public/project/sarwave/d...</td>\n",
       "    </tr>\n",
       "    <tr>\n",
       "      <th>2</th>\n",
       "      <td>/home/datawork-cersat-public/project/sarwave/d...</td>\n",
       "    </tr>\n",
       "    <tr>\n",
       "      <th>3</th>\n",
       "      <td>/home/datawork-cersat-public/project/sarwave/d...</td>\n",
       "    </tr>\n",
       "    <tr>\n",
       "      <th>4</th>\n",
       "      <td>/home/datawork-cersat-public/project/sarwave/d...</td>\n",
       "    </tr>\n",
       "    <tr>\n",
       "      <th>...</th>\n",
       "      <td>...</td>\n",
       "    </tr>\n",
       "    <tr>\n",
       "      <th>9196</th>\n",
       "      <td>/home/datawork-cersat-public/project/sarwave/d...</td>\n",
       "    </tr>\n",
       "    <tr>\n",
       "      <th>9197</th>\n",
       "      <td>/home/datawork-cersat-public/project/sarwave/d...</td>\n",
       "    </tr>\n",
       "    <tr>\n",
       "      <th>9198</th>\n",
       "      <td>/home/datawork-cersat-public/project/sarwave/d...</td>\n",
       "    </tr>\n",
       "    <tr>\n",
       "      <th>9199</th>\n",
       "      <td>/home/datawork-cersat-public/project/sarwave/d...</td>\n",
       "    </tr>\n",
       "    <tr>\n",
       "      <th>9200</th>\n",
       "      <td>/home/datawork-cersat-public/project/sarwave/d...</td>\n",
       "    </tr>\n",
       "  </tbody>\n",
       "</table>\n",
       "<p>9201 rows × 1 columns</p>\n",
       "</div>"
      ],
      "text/plain": [
       "                                                   safe\n",
       "0     /home/datawork-cersat-public/project/sarwave/d...\n",
       "1     /home/datawork-cersat-public/project/sarwave/d...\n",
       "2     /home/datawork-cersat-public/project/sarwave/d...\n",
       "3     /home/datawork-cersat-public/project/sarwave/d...\n",
       "4     /home/datawork-cersat-public/project/sarwave/d...\n",
       "...                                                 ...\n",
       "9196  /home/datawork-cersat-public/project/sarwave/d...\n",
       "9197  /home/datawork-cersat-public/project/sarwave/d...\n",
       "9198  /home/datawork-cersat-public/project/sarwave/d...\n",
       "9199  /home/datawork-cersat-public/project/sarwave/d...\n",
       "9200  /home/datawork-cersat-public/project/sarwave/d...\n",
       "\n",
       "[9201 rows x 1 columns]"
      ]
     },
     "execution_count": 3,
     "metadata": {},
     "output_type": "execute_result"
    }
   ],
   "source": [
    "import pandas as pd\n",
    "# listing_safe_l1B = '/home/datawork-cersat-public/cache/project/sarwave/data/listings/iw_l1b_safe_a13_from_creodias_v14sept24.txt' # extension dataset\n",
    "listing_safe_l1B = '/home/datawork-cersat-public/project/sarwave/data/listings/iw_l1b_A13_medium_listing.txt' # base listing medium\n",
    "\n",
    "dfl1b = pd.read_csv(listing_safe_l1B,names=['safe'])\n",
    "dfl1b"
   ]
  },
  {
   "cell_type": "code",
   "execution_count": 4,
   "id": "622d31c3-c3f1-400f-9080-5633538c93d5",
   "metadata": {
    "execution": {
     "iopub.execute_input": "2024-09-24T12:42:36.897308Z",
     "iopub.status.busy": "2024-09-24T12:42:36.897136Z",
     "iopub.status.idle": "2024-09-24T12:42:36.906280Z",
     "shell.execute_reply": "2024-09-24T12:42:36.905780Z",
     "shell.execute_reply.started": "2024-09-24T12:42:36.897295Z"
    }
   },
   "outputs": [
    {
     "data": {
      "text/plain": [
       "array([['S1A_IW_XSP__1SDV_20181024T010502_20181024T010530_024271_02A7FA_FEA1_B07.SAFE'],\n",
       "       ['S1A_IW_XSP__1SDV_20181024T010552_20181024T010619_024271_02A7FA_A536_B07.SAFE'],\n",
       "       ['S1A_IW_XSP__1SDV_20181024T010527_20181024T010554_024271_02A7FA_333A_B07.SAFE'],\n",
       "       ...,\n",
       "       ['S1B_IW_XSP__1SDV_20210213T153523_20210213T153550_025590_030CA9_B725_B07.SAFE'],\n",
       "       ['S1A_IW_XSP__1SDV_20210213T193912_20210213T193940_036576_044BD7_A9B5_B07.SAFE'],\n",
       "       ['S1B_IW_XSP__1SDV_20210213T185036_20210213T185103_025592_030CBA_FEDF_B07.SAFE']],\n",
       "      dtype=object)"
      ]
     },
     "execution_count": 4,
     "metadata": {},
     "output_type": "execute_result"
    }
   ],
   "source": [
    "import os\n",
    "dfl1c = pd.DataFrame({'safe':[os.path.basename(uu).replace('A13','B07') for uu in dfl1b['safe']]})\n",
    "dfl1c.values"
   ]
  },
  {
   "cell_type": "code",
   "execution_count": 5,
   "id": "b718c927-db88-48c4-9c51-3982d060f438",
   "metadata": {
    "execution": {
     "iopub.execute_input": "2024-09-24T12:42:41.992706Z",
     "iopub.status.busy": "2024-09-24T12:42:41.992378Z",
     "iopub.status.idle": "2024-09-24T12:42:41.997070Z",
     "shell.execute_reply": "2024-09-24T12:42:41.996546Z",
     "shell.execute_reply.started": "2024-09-24T12:42:41.992685Z"
    }
   },
   "outputs": [
    {
     "name": "stdout",
     "output_type": "stream",
     "text": [
      "bingo\n"
     ]
    }
   ],
   "source": [
    "for vv in dfl1c['safe'].values:\n",
    "    if vv == 'S1A_IW_XSP__1SDV_20181024T010502_20181024T010530_024271_02A7FA_FEA1_B07.SAFE':\n",
    "        print('bingo')"
   ]
  },
  {
   "cell_type": "code",
   "execution_count": 6,
   "id": "144f99f7-f8d0-46d0-ad82-b90f78848304",
   "metadata": {
    "execution": {
     "iopub.execute_input": "2024-09-24T12:43:16.876687Z",
     "iopub.status.busy": "2024-09-24T12:43:16.876461Z",
     "iopub.status.idle": "2024-09-24T12:43:34.141890Z",
     "shell.execute_reply": "2024-09-24T12:43:34.141452Z",
     "shell.execute_reply.started": "2024-09-24T12:43:16.876668Z"
    }
   },
   "outputs": [
    {
     "name": "stderr",
     "output_type": "stream",
     "text": [
      "100%|██████████████████████████████████████████████████████████████████████████████████████████████████████████████████████████████████████████████████████████████████| 99857/99857 [00:16<00:00, 5924.29it/s]"
     ]
    },
    {
     "name": "stdout",
     "output_type": "stream",
     "text": [
      "cpt defaultdict(<class 'int'>, {'keep': 26928, 'safe_keep': 26928, 'rejected': 72929})\n"
     ]
    },
    {
     "name": "stderr",
     "output_type": "stream",
     "text": [
      "\n"
     ]
    }
   ],
   "source": [
    "from collections import defaultdict\n",
    "from tqdm import tqdm\n",
    "cpt = defaultdict(int)\n",
    "consolidated_list_measu = []\n",
    "safe_kept = []\n",
    "for ii in tqdm(range(len(fns_array))):\n",
    "    ff = fns_array[ii]\n",
    "    basesafe_x  = os.path.basename(os.path.dirname(ff))\n",
    "    # print('basesafe_x',basesafe_x)\n",
    "    \n",
    "    if basesafe_x in dfl1c['safe'].values.squeeze():\n",
    "        cpt['keep'] += 1   \n",
    "        if basesafe_x not in safe_kept:\n",
    "            safe_kept.append(safe_kept)\n",
    "            cpt['safe_keep'] += 1\n",
    "        # print('ok')\n",
    "        consolidated_list_measu.append(ff)\n",
    "        # dsùfkllsmdkf\n",
    "    else:\n",
    "        # print('ko')\n",
    "        cpt['rejected'] += 1\n",
    "    # if ii>10:\n",
    "        # sdmlfkdmslkf\n",
    "print('cpt',cpt)\n",
    "consolidated_list_measu = np.array(consolidated_list_measu)"
   ]
  },
  {
   "cell_type": "code",
   "execution_count": 7,
   "id": "e8611cd0-e24c-493a-bfa9-4a3ec5ddce07",
   "metadata": {
    "execution": {
     "iopub.execute_input": "2024-09-24T12:44:52.860991Z",
     "iopub.status.busy": "2024-09-24T12:44:52.860818Z",
     "iopub.status.idle": "2024-09-24T12:44:52.863307Z",
     "shell.execute_reply": "2024-09-24T12:44:52.862790Z",
     "shell.execute_reply.started": "2024-09-24T12:44:52.860977Z"
    }
   },
   "outputs": [],
   "source": [
    "# extension cpt defaultdict(<class 'int'>,        {'rejected': 26997, 'keep': 72860, 'safe_keep': 72860})\n",
    "# medium listing : cpt defaultdict(<class 'int'>, {'rejected': 72929,'keep': 26928, 'safe_keep': 26928}"
   ]
  },
  {
   "cell_type": "code",
   "execution_count": 10,
   "id": "8ca7c384-374d-41e2-9a8e-16cdf1674b87",
   "metadata": {
    "execution": {
     "iopub.execute_input": "2024-09-24T12:45:37.396004Z",
     "iopub.status.busy": "2024-09-24T12:45:37.395834Z",
     "iopub.status.idle": "2024-09-24T12:45:37.873228Z",
     "shell.execute_reply": "2024-09-24T12:45:37.872729Z",
     "shell.execute_reply.started": "2024-09-24T12:45:37.395990Z"
    }
   },
   "outputs": [
    {
     "name": "stdout",
     "output_type": "stream",
     "text": [
      "99857\n",
      "/home1/scratch/agrouaze/l1c_conversion/S1AB_IW_L1C_XSP__1SDV_B07_medium_listing_nc_fullpath.txt\n"
     ]
    }
   ],
   "source": [
    "# if False:\n",
    "#     fout = '/home1/scratch/agrouaze/l1c_conversion/S1AB_IW_L1C_XSP__1SDV_B07_extension_from_creodias_nc_fullpath.txt'\n",
    "#     os.makedirs(os.path.dirname(fout),exist_ok=True)\n",
    "#     np.savetxt(fout, consolidated_list_measu, fmt='%s')\n",
    "#     print(fout)\n",
    "# else:\n",
    "#     print(len(fns_array))\n",
    "#     fout = '/home1/scratch/agrouaze/l1c_conversion/S1AB_IW_L1C_XSP__1SDV_B07_medium_plus_extension_nc_fullpath.txt'\n",
    "#     os.makedirs(os.path.dirname(fout),exist_ok=True)\n",
    "#     np.savetxt(fout, fns_array, fmt='%s')\n",
    "# print(fout)\n",
    "print(len(fns_array))\n",
    "fout = '/home1/scratch/agrouaze/l1c_conversion/S1AB_IW_L1C_XSP__1SDV_B07_medium_listing_nc_fullpath.txt'\n",
    "os.makedirs(os.path.dirname(fout),exist_ok=True)\n",
    "np.savetxt(fout, fns_array, fmt='%s')\n",
    "print(fout)"
   ]
  }
 ],
 "metadata": {
  "kernelspec": {
   "display_name": "imacs-l1c",
   "language": "python",
   "name": "imacs-l1c"
  },
  "language_info": {
   "codemirror_mode": {
    "name": "ipython",
    "version": 3
   },
   "file_extension": ".py",
   "mimetype": "text/x-python",
   "name": "python",
   "nbconvert_exporter": "python",
   "pygments_lexer": "ipython3",
   "version": "3.12.5"
  }
 },
 "nbformat": 4,
 "nbformat_minor": 5
}
