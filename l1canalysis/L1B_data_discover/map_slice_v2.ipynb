{
 "cells": [
  {
   "cell_type": "code",
   "execution_count": 1,
   "id": "884be0d3",
   "metadata": {},
   "outputs": [],
   "source": [
    "# Lisa's tools\n",
    "import sys \n",
    "path_tools = '/home1/datahome/ljessel/Scripts/'  # path to the toolkit directory\n",
    "sys.path.append(path_tools)\n",
    "from map_SAR_variables_toolkit.sar_tools.sar import preprocess_sar, map_sar"
   ]
  },
  {
   "cell_type": "code",
   "execution_count": null,
   "id": "eadc158e",
   "metadata": {
    "tags": []
   },
   "outputs": [
    {
     "name": "stdout",
     "output_type": "stream",
     "text": [
      "10\n",
      "30\n"
     ]
    }
   ],
   "source": [
    "import xarray as xr\n",
    "import glob\n",
    "from functools import partial\n",
    "import matplotlib.pyplot as plt\n",
    "\n",
    "# Loading files\n",
    "fns=[]\n",
    "\n",
    "base_path = '/home/datawork-cersat-public/cache/project/sarwave/data/products/tests/iw/slc/l1b/3.7/'\n",
    "safe_pattern21 = 'S1B_IW_XSP__1SDV_20210821T1*.SAFE'   # pour le 21/08\n",
    "nc_pattern = '/*vv*.nc'\n",
    "\n",
    "safes = glob.glob(base_path+safe_pattern21)\n",
    "print(len(safes))\n",
    "\n",
    "for safe in safes :\n",
    "    fns = fns+glob.glob(safe+nc_pattern)\n",
    "print(len(fns))\n",
    "\n",
    "\n",
    "\n",
    "# Read SAR \n",
    "partial_func = partial(preprocess_sar,varn=['sigma0_filt'])\n",
    "#partial_func = partial(preprocess_sar)\n",
    "ds_sar = xr.open_mfdataset(fns,combine='nested',concat_dim='swath',preprocess=partial_func,group='intraburst')\n",
    "\n",
    "\n",
    "# PLOT\n",
    "map_sar(ds_sar,'sigma0_filt',\n",
    "        clbl=r'$\\sigma_0^{filt}$ [u.a]',\n",
    "        cmap = plt.cm.Greys,\n",
    "        title = \"SAR : %s\" %(str(ds_sar.start.min().values.astype('datetime64[m]'))))"
   ]
  }
 ],
 "metadata": {
  "kernelspec": {
   "display_name": "Python 3 (ipykernel)",
   "language": "python",
   "name": "python3"
  },
  "language_info": {
   "codemirror_mode": {
    "name": "ipython",
    "version": 3
   },
   "file_extension": ".py",
   "mimetype": "text/x-python",
   "name": "python",
   "nbconvert_exporter": "python",
   "pygments_lexer": "ipython3",
   "version": "3.10.13"
  }
 },
 "nbformat": 4,
 "nbformat_minor": 5
}
